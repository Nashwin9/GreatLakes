{
  "nbformat": 4,
  "nbformat_minor": 0,
  "metadata": {
    "colab": {
      "name": "Computer_Vision_With_CNN_R7_Project1.ipynb",
      "version": "0.3.2",
      "provenance": [],
      "collapsed_sections": [],
      "include_colab_link": true
    },
    "kernelspec": {
      "name": "python3",
      "display_name": "Python 3"
    },
    "accelerator": "GPU"
  },
  "cells": [
    {
      "cell_type": "markdown",
      "metadata": {
        "id": "view-in-github",
        "colab_type": "text"
      },
      "source": [
        "<a href=\"https://colab.research.google.com/github/Nashwin9/GreatLakes/blob/master/Computer_Vision_With_CNN_R7_Project1.ipynb\" target=\"_parent\"><img src=\"https://colab.research.google.com/assets/colab-badge.svg\" alt=\"Open In Colab\"/></a>"
      ]
    },
    {
      "metadata": {
        "id": "CSX__2Fm2oDd",
        "colab_type": "text"
      },
      "cell_type": "markdown",
      "source": [
        "The points distribution for this case is as follows:\n",
        "\n",
        "1. Read the images and generate the train and test dataset (5 points)\n",
        "2. Divide the data set into Train and validation data sets\n",
        "3. Initialize & build the model (10 points)\n",
        "4. Optimize the model (5 points)\n",
        "5. Predict the accuracy for both train and validation data (5 points)"
      ]
    },
    {
      "metadata": {
        "id": "-zTc9bBf2rYu",
        "colab_type": "code",
        "colab": {}
      },
      "cell_type": "code",
      "source": [
        "from google.colab import drive"
      ],
      "execution_count": 0,
      "outputs": []
    },
    {
      "metadata": {
        "id": "zfYC2BuaQqcX",
        "colab_type": "code",
        "colab": {
          "base_uri": "https://localhost:8080/",
          "height": 122
        },
        "outputId": "7e01a0ba-8ce3-47b9-9adc-22e41a36ef94"
      },
      "cell_type": "code",
      "source": [
        "drive.mount('/content/drive/')"
      ],
      "execution_count": 2,
      "outputs": [
        {
          "output_type": "stream",
          "text": [
            "Go to this URL in a browser: https://accounts.google.com/o/oauth2/auth?client_id=947318989803-6bn6qk8qdgf4n4g3pfee6491hc0brc4i.apps.googleusercontent.com&redirect_uri=urn%3Aietf%3Awg%3Aoauth%3A2.0%3Aoob&scope=email%20https%3A%2F%2Fwww.googleapis.com%2Fauth%2Fdocs.test%20https%3A%2F%2Fwww.googleapis.com%2Fauth%2Fdrive%20https%3A%2F%2Fwww.googleapis.com%2Fauth%2Fdrive.photos.readonly%20https%3A%2F%2Fwww.googleapis.com%2Fauth%2Fpeopleapi.readonly&response_type=code\n",
            "\n",
            "Enter your authorization code:\n",
            "··········\n",
            "Mounted at /content/drive/\n"
          ],
          "name": "stdout"
        }
      ]
    },
    {
      "metadata": {
        "id": "msk37kStQv3D",
        "colab_type": "code",
        "colab": {
          "base_uri": "https://localhost:8080/",
          "height": 34
        },
        "outputId": "345035f3-8b08-45c2-dc4a-d3c6d83b6155"
      },
      "cell_type": "code",
      "source": [
        "!ls"
      ],
      "execution_count": 3,
      "outputs": [
        {
          "output_type": "stream",
          "text": [
            "drive  sample_data\n"
          ],
          "name": "stdout"
        }
      ]
    },
    {
      "metadata": {
        "id": "5dRKWolHQ_N4",
        "colab_type": "code",
        "colab": {}
      },
      "cell_type": "code",
      "source": [
        "project_path='/content/drive/My Drive/Computer Vision/'"
      ],
      "execution_count": 0,
      "outputs": []
    },
    {
      "metadata": {
        "id": "r2eGjaGsSAt9",
        "colab_type": "code",
        "colab": {}
      },
      "cell_type": "code",
      "source": [
        "train_path= project_path + 'train.zip'\n",
        "test_path=project_path + 'test.zip'"
      ],
      "execution_count": 0,
      "outputs": []
    },
    {
      "metadata": {
        "id": "3Qw4hLAzSXCf",
        "colab_type": "code",
        "colab": {}
      },
      "cell_type": "code",
      "source": [
        "from zipfile import ZipFile\n",
        "with ZipFile(train_path,'r') as f:\n",
        "  f.extractall()"
      ],
      "execution_count": 0,
      "outputs": []
    },
    {
      "metadata": {
        "id": "1f0qGsvNShwF",
        "colab_type": "code",
        "colab": {}
      },
      "cell_type": "code",
      "source": [
        " from zipfile import ZipFile\n",
        "with ZipFile(test_path,'r') as f:\n",
        "  f.extractall()"
      ],
      "execution_count": 0,
      "outputs": []
    },
    {
      "metadata": {
        "id": "IB3MmjFC4Wyk",
        "colab_type": "code",
        "colab": {}
      },
      "cell_type": "code",
      "source": [
        "import os"
      ],
      "execution_count": 0,
      "outputs": []
    },
    {
      "metadata": {
        "id": "7cAjNygkTuK_",
        "colab_type": "code",
        "colab": {}
      },
      "cell_type": "code",
      "source": [
        "x_train= []\n",
        "y_train=[]\n",
        "import os"
      ],
      "execution_count": 0,
      "outputs": []
    },
    {
      "metadata": {
        "id": "eacBwym8Tuhs",
        "colab_type": "code",
        "colab": {}
      },
      "cell_type": "code",
      "source": [
        "os.chdir(project_path)"
      ],
      "execution_count": 0,
      "outputs": []
    },
    {
      "metadata": {
        "id": "cMM569gkTukd",
        "colab_type": "code",
        "colab": {
          "base_uri": "https://localhost:8080/",
          "height": 34
        },
        "outputId": "2e972e36-eac7-4bda-f861-97ca9ea350bc"
      },
      "cell_type": "code",
      "source": [
        "os.listdir()"
      ],
      "execution_count": 11,
      "outputs": [
        {
          "output_type": "execute_result",
          "data": {
            "text/plain": [
              "['sample_submission.csv', 'test.zip', 'train.zip', 'train', 'test']"
            ]
          },
          "metadata": {
            "tags": []
          },
          "execution_count": 11
        }
      ]
    },
    {
      "metadata": {
        "id": "6nHtxxIYTunR",
        "colab_type": "code",
        "colab": {}
      },
      "cell_type": "code",
      "source": [
        "os.chdir(project_path+'train/')"
      ],
      "execution_count": 0,
      "outputs": []
    },
    {
      "metadata": {
        "id": "tGcz2629Tup5",
        "colab_type": "code",
        "colab": {
          "base_uri": "https://localhost:8080/",
          "height": 221
        },
        "outputId": "606a09b1-2d63-4706-c3cf-c258174108a0"
      },
      "cell_type": "code",
      "source": [
        "os.listdir()"
      ],
      "execution_count": 13,
      "outputs": [
        {
          "output_type": "execute_result",
          "data": {
            "text/plain": [
              "['Fat Hen',\n",
              " 'Small-flowered Cranesbill',\n",
              " 'Cleavers',\n",
              " 'Black-grass',\n",
              " 'Sugar beet',\n",
              " 'Shepherds Purse',\n",
              " 'Charlock',\n",
              " 'Loose Silky-bent',\n",
              " 'Scentless Mayweed',\n",
              " 'Maize',\n",
              " 'Common Chickweed',\n",
              " 'Common wheat']"
            ]
          },
          "metadata": {
            "tags": []
          },
          "execution_count": 13
        }
      ]
    },
    {
      "metadata": {
        "id": "4gsMJ2bWXBbN",
        "colab_type": "code",
        "colab": {}
      },
      "cell_type": "code",
      "source": [
        "import cv2"
      ],
      "execution_count": 0,
      "outputs": []
    },
    {
      "metadata": {
        "id": "icFaPG60WmR8",
        "colab_type": "code",
        "colab": {
          "base_uri": "https://localhost:8080/",
          "height": 221
        },
        "outputId": "84020676-719a-4c31-fcf2-3449821b7b25"
      },
      "cell_type": "code",
      "source": [
        "for i in os.listdir():\n",
        "  print(i)\n",
        "  for j in os.listdir(i):\n",
        "    temp = cv2.imread(project_path+'train/'+i+'/'+j)\n",
        "    temp = cv2.resize(temp,(128,128))\n",
        "    x_train.append(temp)\n",
        "    y_train.append(i)\n"
      ],
      "execution_count": 15,
      "outputs": [
        {
          "output_type": "stream",
          "text": [
            "Fat Hen\n",
            "Small-flowered Cranesbill\n",
            "Cleavers\n",
            "Black-grass\n",
            "Sugar beet\n",
            "Shepherds Purse\n",
            "Charlock\n",
            "Loose Silky-bent\n",
            "Scentless Mayweed\n",
            "Maize\n",
            "Common Chickweed\n",
            "Common wheat\n"
          ],
          "name": "stdout"
        }
      ]
    },
    {
      "metadata": {
        "id": "pT_C8I9BWx7B",
        "colab_type": "code",
        "colab": {
          "base_uri": "https://localhost:8080/",
          "height": 34
        },
        "outputId": "507c3f86-c673-4a7d-a274-934b6cdabf20"
      },
      "cell_type": "code",
      "source": [
        "x_train[0].shape"
      ],
      "execution_count": 16,
      "outputs": [
        {
          "output_type": "execute_result",
          "data": {
            "text/plain": [
              "(128, 128, 3)"
            ]
          },
          "metadata": {
            "tags": []
          },
          "execution_count": 16
        }
      ]
    },
    {
      "metadata": {
        "id": "DTdtaxn7axJd",
        "colab_type": "code",
        "colab": {}
      },
      "cell_type": "code",
      "source": [
        "import pandas as pd\n",
        "dum = pd.get_dummies(y_train)"
      ],
      "execution_count": 0,
      "outputs": []
    },
    {
      "metadata": {
        "id": "Z2bw2Kdnu4R4",
        "colab_type": "code",
        "colab": {}
      },
      "cell_type": "code",
      "source": [
        "encoded_labels = dum\n",
        "y_train = dum"
      ],
      "execution_count": 0,
      "outputs": []
    },
    {
      "metadata": {
        "id": "ubQ10cOSu6t-",
        "colab_type": "code",
        "colab": {}
      },
      "cell_type": "code",
      "source": [
        "import numpy as np\n",
        "y_train = np.array(y_train)"
      ],
      "execution_count": 0,
      "outputs": []
    },
    {
      "metadata": {
        "id": "HtTmKmzSvD6q",
        "colab_type": "code",
        "colab": {}
      },
      "cell_type": "code",
      "source": [
        "x_train = np.array(x_train)"
      ],
      "execution_count": 0,
      "outputs": []
    },
    {
      "metadata": {
        "id": "87y7_qanvF7-",
        "colab_type": "code",
        "colab": {
          "base_uri": "https://localhost:8080/",
          "height": 34
        },
        "outputId": "7c9f10bf-8b0e-40e5-8a24-39041eebbf8f"
      },
      "cell_type": "code",
      "source": [
        "x_train[0].shape"
      ],
      "execution_count": 21,
      "outputs": [
        {
          "output_type": "execute_result",
          "data": {
            "text/plain": [
              "(128, 128, 3)"
            ]
          },
          "metadata": {
            "tags": []
          },
          "execution_count": 21
        }
      ]
    },
    {
      "metadata": {
        "id": "f9aDxZ9tvIzq",
        "colab_type": "code",
        "colab": {
          "base_uri": "https://localhost:8080/",
          "height": 51
        },
        "outputId": "7b3dcbb5-a808-4a5e-92d0-7fd1a1e6ec64"
      },
      "cell_type": "code",
      "source": [
        "from sklearn.model_selection import train_test_split\n",
        "x_train2, x_val, y_train2, y_val = train_test_split(x_train, y_train, test_size=0.2, random_state=2)\n",
        "print (len(x_train2))\n",
        "print (len(x_val))"
      ],
      "execution_count": 22,
      "outputs": [
        {
          "output_type": "stream",
          "text": [
            "3800\n",
            "950\n"
          ],
          "name": "stdout"
        }
      ]
    },
    {
      "metadata": {
        "id": "PlJZGgk2vNtj",
        "colab_type": "code",
        "colab": {
          "base_uri": "https://localhost:8080/",
          "height": 34
        },
        "outputId": "10ac02de-5b0c-4f85-bf77-3f47b32dd027"
      },
      "cell_type": "code",
      "source": [
        "x_train2[0].shape"
      ],
      "execution_count": 23,
      "outputs": [
        {
          "output_type": "execute_result",
          "data": {
            "text/plain": [
              "(128, 128, 3)"
            ]
          },
          "metadata": {
            "tags": []
          },
          "execution_count": 23
        }
      ]
    },
    {
      "metadata": {
        "id": "QGve-mCz8hXq",
        "colab_type": "code",
        "colab": {}
      },
      "cell_type": "code",
      "source": [
        "#x_train = np.array(x_train)"
      ],
      "execution_count": 0,
      "outputs": []
    },
    {
      "metadata": {
        "id": "JJpqXKYBvRd5",
        "colab_type": "code",
        "colab": {}
      },
      "cell_type": "code",
      "source": [
        "x_train2 = x_train2.reshape(x_train2.shape[0],128,128,3)"
      ],
      "execution_count": 0,
      "outputs": []
    },
    {
      "metadata": {
        "id": "l30lmCeB8sTk",
        "colab_type": "code",
        "colab": {}
      },
      "cell_type": "code",
      "source": [
        "x_train2 = np.array(x_train2)"
      ],
      "execution_count": 0,
      "outputs": []
    },
    {
      "metadata": {
        "id": "mtYZOaqF89rA",
        "colab_type": "code",
        "colab": {
          "base_uri": "https://localhost:8080/",
          "height": 34
        },
        "outputId": "af5d717b-5198-40dc-9278-4e0763ab3b92"
      },
      "cell_type": "code",
      "source": [
        "x_train2.shape"
      ],
      "execution_count": 37,
      "outputs": [
        {
          "output_type": "execute_result",
          "data": {
            "text/plain": [
              "(3800, 128, 128, 3)"
            ]
          },
          "metadata": {
            "tags": []
          },
          "execution_count": 37
        }
      ]
    },
    {
      "metadata": {
        "id": "CBQ9Ve5nvWjT",
        "colab_type": "code",
        "colab": {
          "base_uri": "https://localhost:8080/",
          "height": 34
        },
        "outputId": "35780145-5396-409f-a295-9beb2c55104b"
      },
      "cell_type": "code",
      "source": [
        "x_val.shape[0]"
      ],
      "execution_count": 25,
      "outputs": [
        {
          "output_type": "execute_result",
          "data": {
            "text/plain": [
              "950"
            ]
          },
          "metadata": {
            "tags": []
          },
          "execution_count": 25
        }
      ]
    },
    {
      "metadata": {
        "id": "x19AR05AvnQ9",
        "colab_type": "code",
        "colab": {}
      },
      "cell_type": "code",
      "source": [
        "x_val = x_val.reshape(x_val.shape[0],128,128,3)"
      ],
      "execution_count": 0,
      "outputs": []
    },
    {
      "metadata": {
        "id": "XrYjH6edvqrY",
        "colab_type": "code",
        "colab": {
          "base_uri": "https://localhost:8080/",
          "height": 51
        },
        "outputId": "60e61205-e903-42a9-f676-1fee591fcfc7"
      },
      "cell_type": "code",
      "source": [
        "print (x_train2.shape)\n",
        "print (x_val.shape)"
      ],
      "execution_count": 27,
      "outputs": [
        {
          "output_type": "stream",
          "text": [
            "(3800, 128, 128, 3)\n",
            "(950, 128, 128, 3)\n"
          ],
          "name": "stdout"
        }
      ]
    },
    {
      "metadata": {
        "id": "kNT5PwhWvzd-",
        "colab_type": "code",
        "colab": {
          "base_uri": "https://localhost:8080/",
          "height": 51
        },
        "outputId": "e58a88ce-948f-42ea-8701-692ae5e761c1"
      },
      "cell_type": "code",
      "source": [
        "print(y_train2.shape)\n",
        "print(y_val.shape)"
      ],
      "execution_count": 28,
      "outputs": [
        {
          "output_type": "stream",
          "text": [
            "(3800, 12)\n",
            "(950, 12)\n"
          ],
          "name": "stdout"
        }
      ]
    },
    {
      "metadata": {
        "id": "nLhuetZ6v1vc",
        "colab_type": "code",
        "colab": {
          "base_uri": "https://localhost:8080/",
          "height": 34
        },
        "outputId": "cec47131-d117-4c3b-af9c-7b242194c952"
      },
      "cell_type": "code",
      "source": [
        "from keras.models import Sequential\n",
        "from keras.layers import Convolution2D, Dropout, Dense"
      ],
      "execution_count": 29,
      "outputs": [
        {
          "output_type": "stream",
          "text": [
            "Using TensorFlow backend.\n"
          ],
          "name": "stderr"
        }
      ]
    },
    {
      "metadata": {
        "id": "82QQSlrxv5dN",
        "colab_type": "code",
        "colab": {}
      },
      "cell_type": "code",
      "source": [
        "from keras.layers import BatchNormalization\n",
        "from keras.layers import MaxPooling2D\n",
        "from keras.layers import Flatten\n",
        "from keras.optimizers import adam"
      ],
      "execution_count": 0,
      "outputs": []
    },
    {
      "metadata": {
        "id": "WYYQPIzGwNX6",
        "colab_type": "code",
        "colab": {
          "base_uri": "https://localhost:8080/",
          "height": 88
        },
        "outputId": "21d79048-11fc-4911-942a-4f95d8fa3cf3"
      },
      "cell_type": "code",
      "source": [
        "model = Sequential()\n",
        "model.add(BatchNormalization(input_shape = (128,128,3)))\n",
        "model.add(Convolution2D(32, (3,3), activation ='relu', input_shape = (128, 128, 3))) \n",
        "model.add(MaxPooling2D(pool_size=2))\n",
        "#model.add(Dropout(0.8))\n",
        "\n",
        "model.add(Convolution2D(filters=64, kernel_size=4, padding='same', activation='relu'))\n",
        "model.add(MaxPooling2D(pool_size=2))\n",
        "#model.add(Dropout(0.8))\n",
        "\n",
        "model.add(Convolution2D(filters=128, kernel_size=3, padding='same', activation='relu'))\n",
        "model.add(MaxPooling2D(pool_size=2))\n",
        "#model.add(Dropout(0.8))\n",
        "\n",
        "model.add(Convolution2D(filters=128, kernel_size=2, padding='same', activation='relu'))\n",
        "model.add(MaxPooling2D(pool_size=2))\n",
        "#model.add(Dropout(0.8))\n",
        "\n",
        "model.add(Flatten()) \n",
        "\n",
        "# fully connected layer\n",
        "model.add(Dense(units=128,activation = 'relu'))\n",
        "model.add(Dense(units = 64, activation = 'relu'))\n",
        "#model.add(Dropout(0.3))\n",
        "model.add(Dense(units = 32, activation = 'relu'))\n",
        "#model.add(Dropout(0.3))\n",
        "model.add(Dense(units = 12, activation = 'softmax')) \n"
      ],
      "execution_count": 31,
      "outputs": [
        {
          "output_type": "stream",
          "text": [
            "WARNING:tensorflow:From /usr/local/lib/python3.6/dist-packages/tensorflow/python/framework/op_def_library.py:263: colocate_with (from tensorflow.python.framework.ops) is deprecated and will be removed in a future version.\n",
            "Instructions for updating:\n",
            "Colocations handled automatically by placer.\n"
          ],
          "name": "stdout"
        }
      ]
    },
    {
      "metadata": {
        "id": "vsusWDjAwVP1",
        "colab_type": "code",
        "colab": {}
      },
      "cell_type": "code",
      "source": [
        "optimizer = adam(lr=0.001)\n",
        "model.compile(optimizer='adam', loss = 'categorical_crossentropy',metrics = ['accuracy'])"
      ],
      "execution_count": 0,
      "outputs": []
    },
    {
      "metadata": {
        "id": "UbhnN9d3wddd",
        "colab_type": "code",
        "colab": {
          "base_uri": "https://localhost:8080/",
          "height": 612
        },
        "outputId": "99f4143c-e231-4825-d201-9dcb503984c8"
      },
      "cell_type": "code",
      "source": [
        "model.summary()"
      ],
      "execution_count": 33,
      "outputs": [
        {
          "output_type": "stream",
          "text": [
            "_________________________________________________________________\n",
            "Layer (type)                 Output Shape              Param #   \n",
            "=================================================================\n",
            "batch_normalization_1 (Batch (None, 128, 128, 3)       12        \n",
            "_________________________________________________________________\n",
            "conv2d_1 (Conv2D)            (None, 126, 126, 32)      896       \n",
            "_________________________________________________________________\n",
            "max_pooling2d_1 (MaxPooling2 (None, 63, 63, 32)        0         \n",
            "_________________________________________________________________\n",
            "conv2d_2 (Conv2D)            (None, 63, 63, 64)        32832     \n",
            "_________________________________________________________________\n",
            "max_pooling2d_2 (MaxPooling2 (None, 31, 31, 64)        0         \n",
            "_________________________________________________________________\n",
            "conv2d_3 (Conv2D)            (None, 31, 31, 128)       73856     \n",
            "_________________________________________________________________\n",
            "max_pooling2d_3 (MaxPooling2 (None, 15, 15, 128)       0         \n",
            "_________________________________________________________________\n",
            "conv2d_4 (Conv2D)            (None, 15, 15, 128)       65664     \n",
            "_________________________________________________________________\n",
            "max_pooling2d_4 (MaxPooling2 (None, 7, 7, 128)         0         \n",
            "_________________________________________________________________\n",
            "flatten_1 (Flatten)          (None, 6272)              0         \n",
            "_________________________________________________________________\n",
            "dense_1 (Dense)              (None, 128)               802944    \n",
            "_________________________________________________________________\n",
            "dense_2 (Dense)              (None, 64)                8256      \n",
            "_________________________________________________________________\n",
            "dense_3 (Dense)              (None, 32)                2080      \n",
            "_________________________________________________________________\n",
            "dense_4 (Dense)              (None, 12)                396       \n",
            "=================================================================\n",
            "Total params: 986,936\n",
            "Trainable params: 986,930\n",
            "Non-trainable params: 6\n",
            "_________________________________________________________________\n"
          ],
          "name": "stdout"
        }
      ]
    },
    {
      "metadata": {
        "id": "60voepcJwf3J",
        "colab_type": "code",
        "colab": {
          "base_uri": "https://localhost:8080/",
          "height": 734
        },
        "outputId": "0a4361a6-5659-4162-80f9-6b1eb423658b"
      },
      "cell_type": "code",
      "source": [
        "batch_size = 64\n",
        "nb_epochs = 10\n",
        "history = model.fit(x_train2,y_train2,\n",
        "                    epochs=20, \n",
        "                    validation_data=(x_val,y_val),\n",
        "                    verbose = 1,\n",
        "                    initial_epoch=0)"
      ],
      "execution_count": 39,
      "outputs": [
        {
          "output_type": "stream",
          "text": [
            "Train on 3800 samples, validate on 950 samples\n",
            "Epoch 1/20\n",
            "3800/3800 [==============================] - 8s 2ms/step - loss: 0.0284 - acc: 0.9913 - val_loss: 0.0148 - val_acc: 0.9947\n",
            "Epoch 2/20\n",
            "3800/3800 [==============================] - 8s 2ms/step - loss: 0.0463 - acc: 0.9866 - val_loss: 0.0604 - val_acc: 0.9768\n",
            "Epoch 3/20\n",
            "3800/3800 [==============================] - 8s 2ms/step - loss: 0.0344 - acc: 0.9900 - val_loss: 0.0446 - val_acc: 0.9842\n",
            "Epoch 4/20\n",
            "3800/3800 [==============================] - 8s 2ms/step - loss: 0.0550 - acc: 0.9839 - val_loss: 0.0813 - val_acc: 0.9779\n",
            "Epoch 5/20\n",
            "3800/3800 [==============================] - 8s 2ms/step - loss: 0.0914 - acc: 0.9742 - val_loss: 0.0220 - val_acc: 0.9926\n",
            "Epoch 6/20\n",
            "3800/3800 [==============================] - 8s 2ms/step - loss: 0.0108 - acc: 0.9987 - val_loss: 0.0132 - val_acc: 0.9958\n",
            "Epoch 7/20\n",
            "3800/3800 [==============================] - 8s 2ms/step - loss: 0.0032 - acc: 0.9989 - val_loss: 0.0440 - val_acc: 0.9874\n",
            "Epoch 8/20\n",
            "3800/3800 [==============================] - 8s 2ms/step - loss: 0.0698 - acc: 0.9803 - val_loss: 0.1464 - val_acc: 0.9442\n",
            "Epoch 9/20\n",
            "3800/3800 [==============================] - 8s 2ms/step - loss: 0.0226 - acc: 0.9932 - val_loss: 0.0513 - val_acc: 0.9811\n",
            "Epoch 10/20\n",
            "3800/3800 [==============================] - 8s 2ms/step - loss: 0.0385 - acc: 0.9879 - val_loss: 0.0661 - val_acc: 0.9737\n",
            "Epoch 11/20\n",
            "3800/3800 [==============================] - 8s 2ms/step - loss: 0.0232 - acc: 0.9937 - val_loss: 0.0895 - val_acc: 0.9758\n",
            "Epoch 12/20\n",
            "3800/3800 [==============================] - 8s 2ms/step - loss: 0.0708 - acc: 0.9808 - val_loss: 0.1272 - val_acc: 0.9589\n",
            "Epoch 13/20\n",
            "3800/3800 [==============================] - 8s 2ms/step - loss: 0.0496 - acc: 0.9845 - val_loss: 0.1066 - val_acc: 0.9726\n",
            "Epoch 14/20\n",
            "3800/3800 [==============================] - 8s 2ms/step - loss: 0.0245 - acc: 0.9953 - val_loss: 0.1944 - val_acc: 0.9474\n",
            "Epoch 15/20\n",
            "3800/3800 [==============================] - 8s 2ms/step - loss: 0.0337 - acc: 0.9876 - val_loss: 0.0896 - val_acc: 0.9747\n",
            "Epoch 16/20\n",
            "3800/3800 [==============================] - 8s 2ms/step - loss: 0.0236 - acc: 0.9939 - val_loss: 0.1913 - val_acc: 0.9484\n",
            "Epoch 17/20\n",
            "3800/3800 [==============================] - 8s 2ms/step - loss: 0.0466 - acc: 0.9863 - val_loss: 0.1477 - val_acc: 0.9537\n",
            "Epoch 18/20\n",
            "3800/3800 [==============================] - 8s 2ms/step - loss: 0.0368 - acc: 0.9882 - val_loss: 0.1931 - val_acc: 0.9505\n",
            "Epoch 19/20\n",
            "3800/3800 [==============================] - 8s 2ms/step - loss: 0.0416 - acc: 0.9871 - val_loss: 0.1209 - val_acc: 0.9737\n",
            "Epoch 20/20\n",
            "3800/3800 [==============================] - 8s 2ms/step - loss: 0.0201 - acc: 0.9932 - val_loss: 0.2419 - val_acc: 0.9284\n"
          ],
          "name": "stdout"
        }
      ]
    },
    {
      "metadata": {
        "id": "nPVIYaRDwiW4",
        "colab_type": "code",
        "colab": {
          "base_uri": "https://localhost:8080/",
          "height": 85
        },
        "outputId": "5a3797c2-c0e1-4c09-a2d7-bbdef40f3029"
      },
      "cell_type": "code",
      "source": [
        "print(model.evaluate(x_train2, y_train2))  # Evaluate on train set\n",
        "print(model.evaluate(x_val, y_val))  # Evaluate on val set"
      ],
      "execution_count": 40,
      "outputs": [
        {
          "output_type": "stream",
          "text": [
            "3800/3800 [==============================] - 3s 717us/step\n",
            "[0.04018772741093447, 0.988421052631579]\n",
            "950/950 [==============================] - 1s 675us/step\n",
            "[0.2418935914729771, 0.9284210522551286]\n"
          ],
          "name": "stdout"
        }
      ]
    },
    {
      "metadata": {
        "id": "dugjzlT9LRb0",
        "colab_type": "code",
        "colab": {
          "base_uri": "https://localhost:8080/",
          "height": 221
        },
        "outputId": "58fce694-587d-46a8-9d5f-79f8fb769728"
      },
      "cell_type": "code",
      "source": [
        "from sklearn.metrics import confusion_matrix\n",
        "\n",
        "# PREDICTIONS on val\n",
        "y_pred = model.predict(x_val)\n",
        "y_class = np.argmax(y_pred, axis = 1) \n",
        "y_check = np.argmax(y_val, axis = 1) \n",
        "\n",
        "cmatrix = confusion_matrix(y_check, y_class)\n",
        "print(cmatrix)"
      ],
      "execution_count": 41,
      "outputs": [
        {
          "output_type": "stream",
          "text": [
            "[[ 36   0   0   0   3   0  13   0   0   0   0   0]\n",
            " [  0  70   0   0   0   0   0   0   0   0   0   0]\n",
            " [  0   0  50   0   0   0   0   0   0   0   0   0]\n",
            " [  0   0   0 117   0   0   0   0   0   0   1   0]\n",
            " [  0   1   2   0  43   0   0   0   1   0   0   0]\n",
            " [  0   2   0   1   0  96   0   0   1   0   2   0]\n",
            " [ 16   0   0   0   7   1 106   0   4   0   0   0]\n",
            " [  0   0   0   0   0   0   0  39   1   0   0   0]\n",
            " [  0   0   0   0   0   0   0   1  88   1   0   0]\n",
            " [  0   0   0   1   0   1   0   0   2  45   0   0]\n",
            " [  0   1   0   0   0   0   0   0   0   0 111   0]\n",
            " [  0   1   1   1   0   0   0   0   2   0   0  81]]\n"
          ],
          "name": "stdout"
        }
      ]
    },
    {
      "metadata": {
        "id": "tl8vVxLUTgk7",
        "colab_type": "code",
        "colab": {
          "base_uri": "https://localhost:8080/",
          "height": 34
        },
        "outputId": "513fe8da-e803-4dc8-adbe-efb6d1c833cd"
      },
      "cell_type": "code",
      "source": [
        "print(project_path)"
      ],
      "execution_count": 43,
      "outputs": [
        {
          "output_type": "stream",
          "text": [
            "/content/drive/My Drive/Computer Vision/\n"
          ],
          "name": "stdout"
        }
      ]
    },
    {
      "metadata": {
        "id": "3GPArziuUNBP",
        "colab_type": "code",
        "colab": {}
      },
      "cell_type": "code",
      "source": [
        "x_test= []\n",
        "y_test=[]\n",
        "import os"
      ],
      "execution_count": 0,
      "outputs": []
    },
    {
      "metadata": {
        "id": "FbY-OYZdIh0O",
        "colab_type": "code",
        "colab": {}
      },
      "cell_type": "code",
      "source": [
        "os.chdir(project_path)"
      ],
      "execution_count": 0,
      "outputs": []
    },
    {
      "metadata": {
        "id": "rJrbjyPEI0Y_",
        "colab_type": "code",
        "colab": {}
      },
      "cell_type": "code",
      "source": [
        "os.chdir(project_path+'test/')"
      ],
      "execution_count": 0,
      "outputs": []
    },
    {
      "metadata": {
        "id": "ibQm3-HQKMDg",
        "colab_type": "code",
        "colab": {
          "base_uri": "https://localhost:8080/",
          "height": 13515
        },
        "outputId": "73f6c82e-c24b-4461-ed40-c0b91bc7242d"
      },
      "cell_type": "code",
      "source": [
        "os.listdir()"
      ],
      "execution_count": 49,
      "outputs": [
        {
          "output_type": "execute_result",
          "data": {
            "text/plain": [
              "['c0461776c.png',\n",
              " '4bbfd1e05.png',\n",
              " '1d0cbd819.png',\n",
              " '93079d970.png',\n",
              " '856f2910a.png',\n",
              " '976e4e079.png',\n",
              " 'b31292706.png',\n",
              " '29bab7cad.png',\n",
              " '37297a64c.png',\n",
              " 'f2dc546ca.png',\n",
              " 'b6a3f7876.png',\n",
              " '8874bba69.png',\n",
              " '1459e96a0.png',\n",
              " '9a3f20121.png',\n",
              " '5315c2dca.png',\n",
              " 'b7a7f6390.png',\n",
              " '20e562fd5.png',\n",
              " 'e3f50adfc.png',\n",
              " '6ba4ef411.png',\n",
              " 'acdb75e00.png',\n",
              " 'e0ec5b6a1.png',\n",
              " '219fd68d5.png',\n",
              " '41f1c3cdb.png',\n",
              " '8c98a6e9b.png',\n",
              " '1bf9b94a6.png',\n",
              " 'cadab6616.png',\n",
              " '17d5e5ac4.png',\n",
              " 'aee6fa3df.png',\n",
              " '7e9cf1c46.png',\n",
              " '19618ad6a.png',\n",
              " '48231e475.png',\n",
              " '1c52ea820.png',\n",
              " '3b73c3b61.png',\n",
              " '33448fe39.png',\n",
              " '19b51843a.png',\n",
              " '4e1190d78.png',\n",
              " '0c45ace27.png',\n",
              " '851c90831.png',\n",
              " 'd93c7ab6d.png',\n",
              " '279df95f2.png',\n",
              " '534e74d83.png',\n",
              " 'ace8761dd.png',\n",
              " '7615e52d3.png',\n",
              " '71b232519.png',\n",
              " 'c7ae30f3a.png',\n",
              " 'fd87b36ae.png',\n",
              " '7f46a71db.png',\n",
              " 'a276c65f7.png',\n",
              " 'd84d37a61.png',\n",
              " '3d67c434b.png',\n",
              " '1f5e5554e.png',\n",
              " 'c6c8d4ba0.png',\n",
              " '0ad9e7dfb.png',\n",
              " '1f3f44563.png',\n",
              " 'bffc08672.png',\n",
              " 'e82017baa.png',\n",
              " 'cd5f0db1c.png',\n",
              " '6680836dd.png',\n",
              " '35a90f8d0.png',\n",
              " '65d08b894.png',\n",
              " '3f826b318.png',\n",
              " 'fd253a74e.png',\n",
              " '12625488b.png',\n",
              " '22fbf13d6.png',\n",
              " '502dff972.png',\n",
              " '66ab0e8d0.png',\n",
              " 'b341d0aab.png',\n",
              " 'ef9676433.png',\n",
              " '466bb6d3b.png',\n",
              " '8585f9718.png',\n",
              " '3efa1f66c.png',\n",
              " '7c85b0265.png',\n",
              " '3e9f41817.png',\n",
              " 'd2fd9df40.png',\n",
              " '54c8bb900.png',\n",
              " '4e69d100a.png',\n",
              " 'e52493d0b.png',\n",
              " '32c86784b.png',\n",
              " 'e9cd91682.png',\n",
              " '187668bde.png',\n",
              " 'edfdb4aeb.png',\n",
              " '0bf7bfb05.png',\n",
              " '0751c0bbc.png',\n",
              " '4c8005bbc.png',\n",
              " 'cfb18d262.png',\n",
              " '780defa2e.png',\n",
              " '86c309150.png',\n",
              " 'c64370a72.png',\n",
              " 'dfb1d9012.png',\n",
              " '9d3cb4745.png',\n",
              " '406ecb5c5.png',\n",
              " '6b9d6f8c9.png',\n",
              " 'bf3924a57.png',\n",
              " 'c0f5d9ac8.png',\n",
              " '8e3ed0a25.png',\n",
              " '0ebf8f2f4.png',\n",
              " '26e7ae885.png',\n",
              " '9fab816f2.png',\n",
              " '4b032563b.png',\n",
              " 'c069fc3fa.png',\n",
              " '37714071b.png',\n",
              " '550a8b7e6.png',\n",
              " '963544aa0.png',\n",
              " '03566743d.png',\n",
              " '3fbd0fc6a.png',\n",
              " 'ae90f2827.png',\n",
              " 'cf46d09c5.png',\n",
              " '2693e5c65.png',\n",
              " '3dd52bd2a.png',\n",
              " '122913909.png',\n",
              " 'f9f35cbd4.png',\n",
              " 'a0f37c726.png',\n",
              " '8cfd98117.png',\n",
              " '4ac29bbf0.png',\n",
              " '2bd74d2da.png',\n",
              " '20ea96bcc.png',\n",
              " '664194d19.png',\n",
              " 'cec5bf198.png',\n",
              " 'cb76a7766.png',\n",
              " '64fe8beb9.png',\n",
              " '0e8492cb1.png',\n",
              " 'c7eb96871.png',\n",
              " 'a5db42f7d.png',\n",
              " '0ee4ad224.png',\n",
              " 'e15fce4f2.png',\n",
              " 'bb64660b7.png',\n",
              " '043449b0b.png',\n",
              " 'c5078bac5.png',\n",
              " 'c75a82234.png',\n",
              " 'b215531dd.png',\n",
              " 'beebe5f4e.png',\n",
              " '0caeda5df.png',\n",
              " 'bd72d4d8a.png',\n",
              " '23bc8ec4f.png',\n",
              " '41e07778c.png',\n",
              " '24c94a6ca.png',\n",
              " 'e19673dc9.png',\n",
              " 'f1e87cba7.png',\n",
              " 'a800caead.png',\n",
              " '74d810f87.png',\n",
              " 'e1809cef2.png',\n",
              " '71f5323c5.png',\n",
              " 'e7077322d.png',\n",
              " '3eda9cbb6.png',\n",
              " '17a78fb44.png',\n",
              " '866be78b0.png',\n",
              " '7b52585da.png',\n",
              " '8c9953903.png',\n",
              " 'b3d6fdb80.png',\n",
              " '33748968f.png',\n",
              " '00ef713a8.png',\n",
              " 'c10ccbd82.png',\n",
              " '6df8e31ea.png',\n",
              " '52dc7a4d6.png',\n",
              " 'c6b76307d.png',\n",
              " 'cf90fc52d.png',\n",
              " '59358cd44.png',\n",
              " '800a8c17e.png',\n",
              " '07e62f903.png',\n",
              " '824f5d4e5.png',\n",
              " '1cfd91582.png',\n",
              " '0c4199daa.png',\n",
              " 'a890ac088.png',\n",
              " '1be0713da.png',\n",
              " '76555b064.png',\n",
              " '429211ee6.png',\n",
              " '1d321253f.png',\n",
              " '2b55a2da2.png',\n",
              " '539961189.png',\n",
              " '53e6e9000.png',\n",
              " 'e73e308be.png',\n",
              " 'a19c3faca.png',\n",
              " 'fb022edf9.png',\n",
              " 'a8b431a3e.png',\n",
              " '16357b436.png',\n",
              " '0c27cf05f.png',\n",
              " 'f33e9d918.png',\n",
              " 'd89db156f.png',\n",
              " '0fb233ad6.png',\n",
              " '8a30b2de3.png',\n",
              " '19fdf19fb.png',\n",
              " 'e98e5d1d5.png',\n",
              " '5dcad9a53.png',\n",
              " '2f0004a7f.png',\n",
              " '6be169e41.png',\n",
              " 'adb7a032c.png',\n",
              " '809eb0b82.png',\n",
              " '60fea2ef6.png',\n",
              " 'e5881dd33.png',\n",
              " 'f9b6bfb00.png',\n",
              " 'b03397525.png',\n",
              " '5a38ac566.png',\n",
              " 'a8388a37f.png',\n",
              " '53ceb4657.png',\n",
              " '96ecad7a1.png',\n",
              " '7691014a1.png',\n",
              " '2126dc71b.png',\n",
              " 'ce42adffb.png',\n",
              " '6edb96d45.png',\n",
              " '8e29abce1.png',\n",
              " '0d31e6602.png',\n",
              " '8d6acbe9b.png',\n",
              " 'd6d31dcbe.png',\n",
              " 'd5f7dd60a.png',\n",
              " '35cf9fa01.png',\n",
              " '76dbd1054.png',\n",
              " 'a1e0a6c02.png',\n",
              " 'd515398fd.png',\n",
              " '177d7e2a4.png',\n",
              " '02cfeb38d.png',\n",
              " 'c0bc3997b.png',\n",
              " '5bdcfa329.png',\n",
              " '63c07d340.png',\n",
              " 'fa9f3a8f9.png',\n",
              " 'f1f7c833f.png',\n",
              " '0086a6340.png',\n",
              " '8e2e5604e.png',\n",
              " 'c26ccf73c.png',\n",
              " '36839d5e9.png',\n",
              " '523e5505c.png',\n",
              " '8104422bb.png',\n",
              " '410e6f702.png',\n",
              " '6da892be6.png',\n",
              " '78750e0ff.png',\n",
              " '98d819587.png',\n",
              " '60f0bc617.png',\n",
              " '2d992d1fb.png',\n",
              " 'e5368474f.png',\n",
              " '0f6cbe5e8.png',\n",
              " '9b9911f20.png',\n",
              " '97844bfd5.png',\n",
              " '4c7838de4.png',\n",
              " 'b2706e2b3.png',\n",
              " 'a9d2eab61.png',\n",
              " '8d6991365.png',\n",
              " '4bbf1f6ea.png',\n",
              " 'df521c0c0.png',\n",
              " 'f4e7733d4.png',\n",
              " 'cc3d2a59a.png',\n",
              " '9cce7328c.png',\n",
              " '4e9d3765f.png',\n",
              " 'e9d48d664.png',\n",
              " 'a0b393945.png',\n",
              " '2ff5cb348.png',\n",
              " '966ae5ad9.png',\n",
              " '590f5aea6.png',\n",
              " 'eec1079a1.png',\n",
              " '1376f3b63.png',\n",
              " '506347cfe.png',\n",
              " 'f4caf74f9.png',\n",
              " '3abb502fb.png',\n",
              " 'ffc6f8527.png',\n",
              " '808578ed5.png',\n",
              " 'dc55449b2.png',\n",
              " 'fea1d13d6.png',\n",
              " '8cf909eb3.png',\n",
              " '50de8a115.png',\n",
              " '71e73a8a0.png',\n",
              " '06d12f6fa.png',\n",
              " '6a41bf95b.png',\n",
              " 'e921021a8.png',\n",
              " '74fd477eb.png',\n",
              " '05341a8a6.png',\n",
              " 'fadc6adbc.png',\n",
              " '7696badea.png',\n",
              " '808cf55c6.png',\n",
              " 'dd9f36df7.png',\n",
              " '03a2ee656.png',\n",
              " '5ca2687a4.png',\n",
              " 'ef3e232ad.png',\n",
              " 'ef65533d5.png',\n",
              " 'e721c6ac8.png',\n",
              " 'aaf4da98f.png',\n",
              " 'e15472085.png',\n",
              " 'fc3e58836.png',\n",
              " '6908fb540.png',\n",
              " 'ec08a5d56.png',\n",
              " '711b46fba.png',\n",
              " '116b136de.png',\n",
              " 'd6c8c3c48.png',\n",
              " '3ebbe9ca4.png',\n",
              " 'f66ae4070.png',\n",
              " '78c5fba1d.png',\n",
              " 'e4a76885b.png',\n",
              " '22e79540f.png',\n",
              " 'bfab3e3d0.png',\n",
              " '5296835a0.png',\n",
              " 'ab35453cb.png',\n",
              " 'a8c8a1db0.png',\n",
              " 'e1abb4ff9.png',\n",
              " 'be341dbdc.png',\n",
              " '73260a4ee.png',\n",
              " '91e469b4a.png',\n",
              " 'f593c9cf0.png',\n",
              " '20f983a71.png',\n",
              " 'fba8fc78a.png',\n",
              " '592cc5b89.png',\n",
              " '148bbda66.png',\n",
              " '0c5f6c493.png',\n",
              " '3bbef3ecb.png',\n",
              " '8a8d6c712.png',\n",
              " '25a4c427e.png',\n",
              " 'dd5ec63d9.png',\n",
              " '24dbc3b21.png',\n",
              " 'b944a49ca.png',\n",
              " '1821eb11a.png',\n",
              " '55fed435f.png',\n",
              " '2dd5cfba9.png',\n",
              " '721be0a4a.png',\n",
              " '2f246d688.png',\n",
              " '8ab8a958b.png',\n",
              " '42e7ed442.png',\n",
              " '1f290e016.png',\n",
              " '8a4d3a1b1.png',\n",
              " '03e322a29.png',\n",
              " '003d61042.png',\n",
              " '958bb9e96.png',\n",
              " 'a85b48a95.png',\n",
              " 'f4021df6c.png',\n",
              " '97b2f0a10.png',\n",
              " '456d507c0.png',\n",
              " '8170d33c1.png',\n",
              " '754b1adf8.png',\n",
              " '80e299ae9.png',\n",
              " '35ebe165c.png',\n",
              " '5ee9d0a5b.png',\n",
              " '5bd71f445.png',\n",
              " '4f44ca525.png',\n",
              " 'bebcaab66.png',\n",
              " 'fa5fd1384.png',\n",
              " '7b21ba6ba.png',\n",
              " '8916793ce.png',\n",
              " '8a32d0bfa.png',\n",
              " '618de3d7a.png',\n",
              " '60ee66ddd.png',\n",
              " '5f04aed97.png',\n",
              " 'c0d9e170b.png',\n",
              " '270b939cf.png',\n",
              " '59e1cea8d.png',\n",
              " '92292055d.png',\n",
              " '5817b766d.png',\n",
              " '258b1183c.png',\n",
              " 'd8f4923f8.png',\n",
              " '5eb9c26a6.png',\n",
              " 'a169b71e7.png',\n",
              " '974959ec1.png',\n",
              " '6049234e6.png',\n",
              " '699d3c707.png',\n",
              " '0a64e3e6c.png',\n",
              " '9d79a1f0c.png',\n",
              " 'a254d71f6.png',\n",
              " 'b4c3df835.png',\n",
              " 'b7ad92859.png',\n",
              " 'ede6b84b4.png',\n",
              " '96f14d90c.png',\n",
              " '1c680883c.png',\n",
              " '8303b27ed.png',\n",
              " '55920f07f.png',\n",
              " 'cb496f36e.png',\n",
              " '1e095a7e1.png',\n",
              " '38c054379.png',\n",
              " '79e5ea8fa.png',\n",
              " '25fa8d109.png',\n",
              " '67e185673.png',\n",
              " 'fea3da57c.png',\n",
              " '37c3108d6.png',\n",
              " '4ea7493d5.png',\n",
              " 'cf3a8b2fd.png',\n",
              " '770a265f5.png',\n",
              " '2df78338c.png',\n",
              " '589e643b8.png',\n",
              " 'a35fd6fbb.png',\n",
              " 'bea23d9f8.png',\n",
              " '3526b05cc.png',\n",
              " 'b130a0632.png',\n",
              " '69d1669f8.png',\n",
              " 'e6f1211a2.png',\n",
              " '7a38416be.png',\n",
              " '444473900.png',\n",
              " '61dd2cdc5.png',\n",
              " 'bb20fce02.png',\n",
              " '1b6a6494d.png',\n",
              " 'f351ce097.png',\n",
              " '659412b1a.png',\n",
              " 'aad8375e0.png',\n",
              " '00d090cde.png',\n",
              " 'bdde957ec.png',\n",
              " '39c8fde99.png',\n",
              " '47b7d8e17.png',\n",
              " '33317fc2a.png',\n",
              " '835dc5447.png',\n",
              " 'cbba27d89.png',\n",
              " '86f08e6d1.png',\n",
              " '29ce426a1.png',\n",
              " 'ef74dbcad.png',\n",
              " '486e59179.png',\n",
              " 'c10db7ae2.png',\n",
              " 'abf8b0772.png',\n",
              " '32b42c120.png',\n",
              " '98062cd87.png',\n",
              " '085974290.png',\n",
              " '3d65168c2.png',\n",
              " '5b63dcc21.png',\n",
              " '24d78df74.png',\n",
              " 'd488a4fe1.png',\n",
              " 'c88ebfb47.png',\n",
              " '8cf2e3e6c.png',\n",
              " '1364b297a.png',\n",
              " '1694a70e4.png',\n",
              " 'c7b07431e.png',\n",
              " 'fe29629fb.png',\n",
              " 'd14aa43f3.png',\n",
              " 'dcd7ff249.png',\n",
              " '721b2c47a.png',\n",
              " '86676d627.png',\n",
              " '521b27a17.png',\n",
              " '026716f9b.png',\n",
              " '39b740f7e.png',\n",
              " '8faadb6a8.png',\n",
              " '5b3beec58.png',\n",
              " '1623fb9e1.png',\n",
              " 'b3e08b037.png',\n",
              " '90d119d25.png',\n",
              " 'e478c452c.png',\n",
              " 'cc74feadc.png',\n",
              " 'da9ef7858.png',\n",
              " 'c50335991.png',\n",
              " '675ec1b0b.png',\n",
              " '6db684fff.png',\n",
              " 'ac3193f78.png',\n",
              " '48d97c645.png',\n",
              " 'b47691c08.png',\n",
              " '7beb2766f.png',\n",
              " '7f31c7f42.png',\n",
              " '4287d810c.png',\n",
              " '8b27bfd2b.png',\n",
              " '59b2c6f2b.png',\n",
              " '1312065a5.png',\n",
              " 'c7051c902.png',\n",
              " '7fdb7202d.png',\n",
              " '56112b92c.png',\n",
              " 'f8318faf1.png',\n",
              " '4a337a4a9.png',\n",
              " '7d3045fc3.png',\n",
              " '90b595f12.png',\n",
              " 'e5064f6be.png',\n",
              " '756dd5070.png',\n",
              " 'd2f0f326e.png',\n",
              " 'fdea6b119.png',\n",
              " 'af45e222a.png',\n",
              " '338c7e907.png',\n",
              " '01291174f.png',\n",
              " 'a060c1cf8.png',\n",
              " 'd9c50616e.png',\n",
              " 'bb1d1bfd3.png',\n",
              " '59c6a9f95.png',\n",
              " 'dabe3e5be.png',\n",
              " '8b043093d.png',\n",
              " 'a7bd7cadb.png',\n",
              " '3185294c8.png',\n",
              " 'a8de7c1b7.png',\n",
              " '75cb95e91.png',\n",
              " '59f62ad1d.png',\n",
              " '2d5058a59.png',\n",
              " 'c74c5b7fc.png',\n",
              " '1758a1baf.png',\n",
              " '6b721f68e.png',\n",
              " 'bf66b9cd2.png',\n",
              " '17529c555.png',\n",
              " '8ece6efec.png',\n",
              " '8db450ce3.png',\n",
              " 'b29339405.png',\n",
              " '1926e82fd.png',\n",
              " 'e5e3dccff.png',\n",
              " '65e97117e.png',\n",
              " 'a3b375b34.png',\n",
              " '39d569be4.png',\n",
              " '9643fc5f4.png',\n",
              " '88ac6df54.png',\n",
              " '5a6bf96f6.png',\n",
              " '9c777333d.png',\n",
              " '606647f64.png',\n",
              " '55251925f.png',\n",
              " '391dcd7fd.png',\n",
              " 'd668409ff.png',\n",
              " '5bbc0a255.png',\n",
              " '668c1007c.png',\n",
              " 'cae684f8f.png',\n",
              " 'f9ea23fb5.png',\n",
              " '9c0c5b731.png',\n",
              " 'aa7d098d1.png',\n",
              " '099b961ec.png',\n",
              " '79d93bc96.png',\n",
              " '37e545a60.png',\n",
              " '23e480e64.png',\n",
              " '71334c634.png',\n",
              " '8dbb8e1b9.png',\n",
              " '6d6eb3830.png',\n",
              " 'a85fc8c9a.png',\n",
              " 'ef02b4ee7.png',\n",
              " '9c8b08a24.png',\n",
              " 'a2c89c367.png',\n",
              " '8311740de.png',\n",
              " 'd0cdc768f.png',\n",
              " '9aa5587fe.png',\n",
              " '592473c83.png',\n",
              " '99569b224.png',\n",
              " 'b39c71707.png',\n",
              " '239bdf640.png',\n",
              " 'e14afa235.png',\n",
              " 'd41d87796.png',\n",
              " '7d4cd07ad.png',\n",
              " 'a2d25b4f3.png',\n",
              " 'fc6f686fb.png',\n",
              " 'e5297b675.png',\n",
              " '6bce55e05.png',\n",
              " 'c35efa095.png',\n",
              " '67ce3eaa6.png',\n",
              " '4823c3ffa.png',\n",
              " 'b0acaff4a.png',\n",
              " '3f64c2c1b.png',\n",
              " '728eabae1.png',\n",
              " '1fefb54b7.png',\n",
              " 'a83820a2c.png',\n",
              " '406162ef9.png',\n",
              " '7cabd68cc.png',\n",
              " '65e262a6d.png',\n",
              " '615d2b0a9.png',\n",
              " 'f48916a8c.png',\n",
              " 'e783f5a4f.png',\n",
              " '785a73ab8.png',\n",
              " '79fba50db.png',\n",
              " '36d62bf36.png',\n",
              " '3a909ead8.png',\n",
              " '4c5ab9b68.png',\n",
              " 'c06e7c748.png',\n",
              " 'fbf88b6be.png',\n",
              " '00c47e980.png',\n",
              " '1541bdb2e.png',\n",
              " '32a8c8a1d.png',\n",
              " 'b1cd2a91e.png',\n",
              " '61b044411.png',\n",
              " '855955aaf.png',\n",
              " 'ce3d280eb.png',\n",
              " '7506c0c02.png',\n",
              " 'bb1c84bbc.png',\n",
              " '31fcdc161.png',\n",
              " '99036c51d.png',\n",
              " '77ccb8b2a.png',\n",
              " '03ef36742.png',\n",
              " 'c8f50f0c3.png',\n",
              " 'a1da8be3c.png',\n",
              " '9326bda1b.png',\n",
              " '071cb3ece.png',\n",
              " 'cbe761896.png',\n",
              " 'f85ed9b6d.png',\n",
              " 'cd6adba97.png',\n",
              " 'df11d56a7.png',\n",
              " 'e901b0f28.png',\n",
              " '2ea664465.png',\n",
              " '0437393b1.png',\n",
              " '3da774107.png',\n",
              " '8bc0261c9.png',\n",
              " 'b5c7fd009.png',\n",
              " '2a5064f19.png',\n",
              " 'd350a25fa.png',\n",
              " '377283a21.png',\n",
              " '7f9e9565d.png',\n",
              " 'ff65bc002.png',\n",
              " '0625f063b.png',\n",
              " '36ed4f215.png',\n",
              " '862b8e7a0.png',\n",
              " 'c60e91e07.png',\n",
              " 'ab0f67743.png',\n",
              " 'd0152bd7c.png',\n",
              " '56a01b835.png',\n",
              " '54b3afd58.png',\n",
              " 'a4b61a4ea.png',\n",
              " 'a55d26a4c.png',\n",
              " 'e80a259c5.png',\n",
              " '3edf5e9ef.png',\n",
              " 'e1a0e3202.png',\n",
              " '4b155fb07.png',\n",
              " 'dce2f6612.png',\n",
              " 'c5e88cd42.png',\n",
              " '8301b0547.png',\n",
              " '5bc6595f6.png',\n",
              " '241e6935a.png',\n",
              " '08d591441.png',\n",
              " '14bb43eee.png',\n",
              " '65489944f.png',\n",
              " 'e19ad6ac9.png',\n",
              " '653193c1a.png',\n",
              " '205df1df3.png',\n",
              " '4bcdaa5e2.png',\n",
              " '4392d93cf.png',\n",
              " '837ac0270.png',\n",
              " '9c32a797e.png',\n",
              " 'b573b7a56.png',\n",
              " 'fda0b5c38.png',\n",
              " 'a935ca110.png',\n",
              " 'b7192c70f.png',\n",
              " 'c1ecff98b.png',\n",
              " '25cf6eb73.png',\n",
              " '34dd57ca9.png',\n",
              " 'f3fcfff1b.png',\n",
              " 'd2f422ccb.png',\n",
              " '007b3da8b.png',\n",
              " '46c14fde2.png',\n",
              " 'c2de6020a.png',\n",
              " '5b3000b9a.png',\n",
              " 'dc4cd56a3.png',\n",
              " 'bb7621cb3.png',\n",
              " 'd09d24c58.png',\n",
              " '1b490196c.png',\n",
              " '060450d79.png',\n",
              " 'e471f1d3a.png',\n",
              " 'fe9e87b78.png',\n",
              " '5e6a237f2.png',\n",
              " '897e5a8de.png',\n",
              " '558aa7deb.png',\n",
              " 'd102e1a15.png',\n",
              " 'a38b8a581.png',\n",
              " '11d3f68ff.png',\n",
              " 'cfd8165e9.png',\n",
              " '19e58cc5e.png',\n",
              " '74068643d.png',\n",
              " 'd7017f701.png',\n",
              " '5af1d74ee.png',\n",
              " 'fda39e16f.png',\n",
              " 'da713c465.png',\n",
              " '87608f7aa.png',\n",
              " '5883b423d.png',\n",
              " '1dc7c45df.png',\n",
              " '8ca6140ca.png',\n",
              " '30ad31220.png',\n",
              " '8e4eaeec0.png',\n",
              " '98da6ef4e.png',\n",
              " 'd01873fdd.png',\n",
              " '8f523520c.png',\n",
              " 'da4ed3a28.png',\n",
              " 'f4ad9d950.png',\n",
              " '647689543.png',\n",
              " '85431c075.png',\n",
              " '3827436f3.png',\n",
              " '604dd663f.png',\n",
              " 'eaf0815e2.png',\n",
              " '78b1bf91a.png',\n",
              " '165681fd9.png',\n",
              " 'f23faf9c1.png',\n",
              " '82b5f4d33.png',\n",
              " '892e9d6c6.png',\n",
              " 'caa2fbd79.png',\n",
              " 'b828443ff.png',\n",
              " '248436078.png',\n",
              " '5ca0205f9.png',\n",
              " 'fea355851.png',\n",
              " 'f25996db8.png',\n",
              " '223e4af09.png',\n",
              " '060f1dc84.png',\n",
              " '6c874918c.png',\n",
              " 'df7cb5f87.png',\n",
              " 'a8da9c08d.png',\n",
              " 'ef7a5651d.png',\n",
              " '3d38a87bc.png',\n",
              " '1191ba346.png',\n",
              " 'b6f3d8b5d.png',\n",
              " '43ede9de9.png',\n",
              " '2d9c798f9.png',\n",
              " '24d36c52c.png',\n",
              " '172f9b10b.png',\n",
              " '16fd2e01a.png',\n",
              " '0ae6668fa.png',\n",
              " 'a74bf916d.png',\n",
              " '6a47821f9.png',\n",
              " '0dba99002.png',\n",
              " 'f445fe6fb.png',\n",
              " 'fd925f542.png',\n",
              " 'fef2ade8c.png',\n",
              " 'a3d0031fd.png',\n",
              " '599c82eea.png',\n",
              " 'f6d250856.png',\n",
              " 'b62dca166.png',\n",
              " '4e18ab737.png',\n",
              " 'a006a475c.png',\n",
              " 'd6d80a321.png',\n",
              " '3281183f9.png',\n",
              " 'a544fc46d.png',\n",
              " 'eef131644.png',\n",
              " 'b687160f5.png',\n",
              " '20817c846.png',\n",
              " 'd563be369.png',\n",
              " '9b4800b42.png',\n",
              " '13b9fa92d.png',\n",
              " 'ac75d3326.png',\n",
              " '3f92d8039.png',\n",
              " 'abc331628.png',\n",
              " '26852751a.png',\n",
              " '04814f36d.png',\n",
              " '39858776a.png',\n",
              " 'b4f7c9214.png',\n",
              " '2e86f1085.png',\n",
              " 'c832e4302.png',\n",
              " '4049a6ea6.png',\n",
              " '87f627bf9.png',\n",
              " '88d8a4508.png',\n",
              " '1d48b7564.png',\n",
              " 'de0b79659.png',\n",
              " '8e6ec1ca6.png',\n",
              " '0d117d910.png',\n",
              " 'b30ab4659.png',\n",
              " '55a852f40.png',\n",
              " '0021e90e4.png',\n",
              " '969a851be.png',\n",
              " '4f83143e1.png',\n",
              " '6edc76e7c.png',\n",
              " '126a71ce0.png',\n",
              " '93d76fd5d.png',\n",
              " 'a93f940d6.png',\n",
              " 'f4234cf4f.png',\n",
              " '780bd2a2c.png',\n",
              " '6982a9d30.png',\n",
              " '2406d6c99.png',\n",
              " '29f49cd0b.png',\n",
              " 'd17f48d3b.png',\n",
              " '995c7ab1e.png',\n",
              " 'c5e419015.png',\n",
              " 'ad12382d4.png',\n",
              " '24a058589.png',\n",
              " '47f9e5d91.png',\n",
              " '2a667e099.png',\n",
              " '827279bad.png',\n",
              " 'd3331e071.png',\n",
              " '44e8b8833.png',\n",
              " 'c85ef220d.png',\n",
              " '948cdb277.png',\n",
              " '5c3cd7ea2.png',\n",
              " '1d56351b2.png',\n",
              " '5779fe8b4.png',\n",
              " 'a2b703e21.png',\n",
              " 'b9062c1c8.png',\n",
              " '7d22abf91.png',\n",
              " '9df3275da.png',\n",
              " '6dd095129.png',\n",
              " 'c63da993b.png',\n",
              " 'f0ffa00bd.png',\n",
              " '8b9144917.png',\n",
              " '063363305.png',\n",
              " '48ef6a2ff.png',\n",
              " '9516e56c4.png',\n",
              " 'e4d5ec761.png',\n",
              " '490c4f9c8.png',\n",
              " '599691cd9.png',\n",
              " '752101fdf.png',\n",
              " 'b026bf8ca.png',\n",
              " '9baf94467.png',\n",
              " 'a74d475c2.png',\n",
              " '3fbf1a417.png',\n",
              " '52a87abe5.png',\n",
              " '686dc7ec8.png',\n",
              " '8455169fe.png',\n",
              " '288564c76.png',\n",
              " '0c51bf229.png',\n",
              " 'ce15eee52.png',\n",
              " '3eebd36c6.png',\n",
              " 'be2499cf4.png',\n",
              " '593896f83.png',\n",
              " 'e96e57a90.png',\n",
              " 'c4ed8ed38.png',\n",
              " '446f7da01.png',\n",
              " 'b145ba9d4.png',\n",
              " 'b98327bf4.png',\n",
              " 'bd789d151.png',\n",
              " 'e84464f5a.png',\n",
              " 'afcf6abd5.png',\n",
              " '79dafec17.png',\n",
              " 'ba3ce6b3e.png',\n",
              " '0911d3dee.png',\n",
              " '0885e7690.png',\n",
              " 'aecfaed64.png',\n",
              " '089ad62a7.png',\n",
              " '31f3dd81f.png',\n",
              " 'afa446484.png',\n",
              " '115f93ecc.png',\n",
              " 'da5255450.png',\n",
              " 'd689256be.png',\n",
              " 'dabea05f4.png',\n",
              " 'd09275360.png',\n",
              " '16467a950.png',\n",
              " 'da231c97f.png',\n",
              " '632156793.png',\n",
              " '953496deb.png',\n",
              " 'e88bf0db9.png',\n",
              " 'efe19dc32.png']"
            ]
          },
          "metadata": {
            "tags": []
          },
          "execution_count": 49
        }
      ]
    },
    {
      "metadata": {
        "id": "XSmDVTNLKQmO",
        "colab_type": "code",
        "colab": {
          "base_uri": "https://localhost:8080/",
          "height": 129
        },
        "outputId": "43a27626-661b-4dcf-8b68-cc15f318e932"
      },
      "cell_type": "code",
      "source": [
        "if (os.path.isdir()):\n",
        "   for i in os.listdir():\n",
        "  \n",
        "     try:\n",
        "    dummy1 = cv2.imread(project_path+'test/'+i)\n",
        "    dummy1 = cv2.resize(dummy,(128,128))\n",
        "    x_test.append(dummy1)\n",
        "    y_test.append(i)\n",
        "    "
      ],
      "execution_count": 57,
      "outputs": [
        {
          "output_type": "error",
          "ename": "IndentationError",
          "evalue": "ignored",
          "traceback": [
            "\u001b[0;36m  File \u001b[0;32m\"<ipython-input-57-b59ae9226f03>\"\u001b[0;36m, line \u001b[0;32m5\u001b[0m\n\u001b[0;31m    dummy1 = cv2.imread(project_path+'test/'+i)\u001b[0m\n\u001b[0m                                               ^\u001b[0m\n\u001b[0;31mIndentationError\u001b[0m\u001b[0;31m:\u001b[0m unindent does not match any outer indentation level\n"
          ]
        }
      ]
    },
    {
      "metadata": {
        "id": "5NnqWWyhN_HR",
        "colab_type": "code",
        "colab": {
          "base_uri": "https://localhost:8080/",
          "height": 17
        },
        "outputId": "8733c678-db28-49a0-9d0f-6bc91933e81e"
      },
      "cell_type": "code",
      "source": [
        "path_to_test = project_path+'test/*.png'\n",
        "pics = glob(path_to_test)\n",
        "\n",
        "testimages = []\n",
        "tests = []\n",
        "count=1\n",
        "num = len(pics)\n",
        "\n",
        "for i in pics:\n",
        "    print(str(count)+'/'+str(num),end='\\r')\n",
        "    tests.append(i.split('/')[-1])\n",
        "    testimages.append(cv2.resize(cv2.imread(i),(128,128)))\n",
        "    count = count + 1\n",
        "\n",
        "testimages = np.asarray(testimages)"
      ],
      "execution_count": 59,
      "outputs": [
        {
          "output_type": "stream",
          "text": [
            ""
          ],
          "name": "stdout"
        }
      ]
    },
    {
      "metadata": {
        "id": "Ttv5Rf5bPWtO",
        "colab_type": "code",
        "colab": {
          "base_uri": "https://localhost:8080/",
          "height": 34
        },
        "outputId": "7ccfb34b-639c-4d77-da2b-f1b1bed0dd59"
      },
      "cell_type": "code",
      "source": [
        "testimages.shape"
      ],
      "execution_count": 60,
      "outputs": [
        {
          "output_type": "execute_result",
          "data": {
            "text/plain": [
              "(794, 128, 128, 3)"
            ]
          },
          "metadata": {
            "tags": []
          },
          "execution_count": 60
        }
      ]
    },
    {
      "metadata": {
        "id": "eCKM8cYZPqOi",
        "colab_type": "code",
        "colab": {
          "base_uri": "https://localhost:8080/",
          "height": 231
        },
        "outputId": "9f76bfc0-7e77-4864-c578-288256ffc1d1"
      },
      "cell_type": "code",
      "source": [
        "from sklearn import preprocessing\n",
        "from keras.utils import np_utils\n",
        "labels = preprocessing.LabelEncoder()\n",
        "labels.fit(y_train[0])\n",
        "print('Classes'+str(labels.classes_))\n",
        "encodedlabels = labels.transform(y_train[0])\n",
        "clearalllabels = np_utils.to_categorical(encodedlabels)\n",
        "classes = clearalllabels.shape[1]\n",
        "print(str(classes))\n",
        "x_train[0].value_counts().plot(kind='pie')\n"
      ],
      "execution_count": 67,
      "outputs": [
        {
          "output_type": "stream",
          "text": [
            "Classes[0 1]\n",
            "2\n"
          ],
          "name": "stdout"
        },
        {
          "output_type": "error",
          "ename": "AttributeError",
          "evalue": "ignored",
          "traceback": [
            "\u001b[0;31m---------------------------------------------------------------------------\u001b[0m",
            "\u001b[0;31mAttributeError\u001b[0m                            Traceback (most recent call last)",
            "\u001b[0;32m<ipython-input-67-980a3d32610d>\u001b[0m in \u001b[0;36m<module>\u001b[0;34m()\u001b[0m\n\u001b[1;32m      8\u001b[0m \u001b[0mclasses\u001b[0m \u001b[0;34m=\u001b[0m \u001b[0mclearalllabels\u001b[0m\u001b[0;34m.\u001b[0m\u001b[0mshape\u001b[0m\u001b[0;34m[\u001b[0m\u001b[0;36m1\u001b[0m\u001b[0;34m]\u001b[0m\u001b[0;34m\u001b[0m\u001b[0;34m\u001b[0m\u001b[0m\n\u001b[1;32m      9\u001b[0m \u001b[0mprint\u001b[0m\u001b[0;34m(\u001b[0m\u001b[0mstr\u001b[0m\u001b[0;34m(\u001b[0m\u001b[0mclasses\u001b[0m\u001b[0;34m)\u001b[0m\u001b[0;34m)\u001b[0m\u001b[0;34m\u001b[0m\u001b[0;34m\u001b[0m\u001b[0m\n\u001b[0;32m---> 10\u001b[0;31m \u001b[0mx_train\u001b[0m\u001b[0;34m[\u001b[0m\u001b[0;36m0\u001b[0m\u001b[0;34m]\u001b[0m\u001b[0;34m.\u001b[0m\u001b[0mvalue_counts\u001b[0m\u001b[0;34m(\u001b[0m\u001b[0;34m)\u001b[0m\u001b[0;34m.\u001b[0m\u001b[0mplot\u001b[0m\u001b[0;34m(\u001b[0m\u001b[0mkind\u001b[0m\u001b[0;34m=\u001b[0m\u001b[0;34m'pie'\u001b[0m\u001b[0;34m)\u001b[0m\u001b[0;34m\u001b[0m\u001b[0;34m\u001b[0m\u001b[0m\n\u001b[0m",
            "\u001b[0;31mAttributeError\u001b[0m: 'numpy.ndarray' object has no attribute 'value_counts'"
          ]
        }
      ]
    },
    {
      "metadata": {
        "id": "szXe7-jfP4a2",
        "colab_type": "code",
        "colab": {}
      },
      "cell_type": "code",
      "source": [
        "submit = model.predict(testimages)\n",
        "# PREDICTION TO A CSV FILE\n",
        "pred = np.argmax(submit,axis=1)\n",
        "predStr = labels.classes_[pred]\n",
        "result = {'file':tests,'species':predStr}\n",
        "result = pd.DataFrame(result)\n",
        "result.to_csv(\"Prediction.csv\",index=False)"
      ],
      "execution_count": 0,
      "outputs": []
    },
    {
      "metadata": {
        "id": "AhYC0b-ATJV6",
        "colab_type": "code",
        "colab": {}
      },
      "cell_type": "code",
      "source": [
        ""
      ],
      "execution_count": 0,
      "outputs": []
    }
  ]
}